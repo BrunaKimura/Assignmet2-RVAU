{
 "cells": [
  {
   "cell_type": "code",
   "execution_count": 1,
   "metadata": {},
   "outputs": [],
   "source": [
    "%reset -f\n",
    "%matplotlib qt\n",
    "\n",
    "import cv2\n",
    "import numpy as np\n",
    "import matplotlib.pyplot as plt\n",
    "import math"
   ]
  },
  {
   "cell_type": "code",
   "execution_count": 89,
   "metadata": {},
   "outputs": [
    {
     "data": {
      "text/plain": [
       "<matplotlib.image.AxesImage at 0x14a4f3d90>"
      ]
     },
     "execution_count": 89,
     "metadata": {},
     "output_type": "execute_result"
    }
   ],
   "source": [
    "# Carregando a imagem de teste\n",
    "img = plt.imread('imgs/img5.jpeg')\n",
    "\n",
    "## convertendo RGB para HSV\n",
    "hsv = cv2.cvtColor(img, cv2.COLOR_BGR2HSV)\n",
    "\n",
    "##mascara verde\n",
    "mask = cv2.inRange(hsv, (36, 25, 25), (86, 255,160))\n",
    "\n",
    "##Separando a cor verde da imagem\n",
    "imask = mask>0\n",
    "green = np.zeros_like(img, np.uint8)\n",
    "green[imask] = img[imask]\n",
    "\n",
    "#deixando a parte verde branca\n",
    "h,w,_ = green.shape\n",
    "for e in range(h):\n",
    "    for i in range(w):\n",
    "        if green[e][i][0]>0 and green[e][i][1]>0 and green[e][i][1]>0:\n",
    "            green[e][i]=[255, 255, 255]\n",
    "            \n",
    "plt.imshow(green)"
   ]
  },
  {
   "cell_type": "code",
   "execution_count": 90,
   "metadata": {},
   "outputs": [],
   "source": [
    "#erosão e dilatação para remover ruidos\n",
    "kernel = np.ones((5,5),np.uint8)\n",
    "erosion = cv2.erode(green,kernel,iterations = 4)\n",
    "dilation = cv2.dilate(erosion,kernel,iterations = 4)\n",
    "plt.imshow(dilation)\n",
    "plt.show()"
   ]
  },
  {
   "cell_type": "code",
   "execution_count": 4,
   "metadata": {},
   "outputs": [],
   "source": [
    "#adicionando blur na imagem\n",
    "# kernel2 = np.ones((5,5),np.float32)/25\n",
    "# blur = cv2.bilateralFilter(dilation, 9, 75, 75)\n",
    "# filter2d\n",
    "\n",
    "# plt.imshow(np.uint32(blur))\n",
    "# plt.show()"
   ]
  },
  {
   "cell_type": "code",
   "execution_count": 5,
   "metadata": {},
   "outputs": [],
   "source": [
    "#adicionando blur na imagem usando gaussian blur\n",
    "img_blur = cv2.GaussianBlur(dilation,(11,11),cv2.BORDER_DEFAULT)\n",
    "plt.imshow(img_blur)\n",
    "plt.show()"
   ]
  },
  {
   "cell_type": "code",
   "execution_count": 6,
   "metadata": {},
   "outputs": [
    {
     "data": {
      "text/plain": [
       "<matplotlib.image.AxesImage at 0x129948110>"
      ]
     },
     "execution_count": 6,
     "metadata": {},
     "output_type": "execute_result"
    }
   ],
   "source": [
    "# Canny para detecção de bordas\n",
    "edges = cv2.Canny(img_blur, threshold1=50, threshold2=200,apertureSize=3)\n",
    "#threshold1=60, threshold2=120\n",
    "plt.imshow(edges,cmap = 'gray')"
   ]
  },
  {
   "cell_type": "code",
   "execution_count": null,
   "metadata": {},
   "outputs": [],
   "source": [
    "# # compute the median of the single channel pixel intensities\n",
    "# sigma=0.33\n",
    "# v = np.median(img_blur)\n",
    " \n",
    "# # apply automatic Canny edge detection using the computed median\n",
    "# lower = int(max(0, (1.0 - sigma) * v))\n",
    "# upper = int(min(255, (1.0 + sigma) * v))\n",
    "# edged = cv2.Canny(img_blur, lower, upper)\n",
    "# plt.imshow(edged,cmap = 'gray')\n",
    "# print(lower, upper)"
   ]
  },
  {
   "cell_type": "markdown",
   "metadata": {},
   "source": [
    "threshold=10,minLineLength=10, maxLineGap=20 bom porém detecta os jogadores tambem <br>\n",
    "threshold=60,minLineLength=10, maxLineGap=20 tira os players mas tem o campo razoavel"
   ]
  },
  {
   "cell_type": "code",
   "execution_count": null,
   "metadata": {},
   "outputs": [],
   "source": [
    "# Copy edges to the images that will display the results in BGR\n",
    "cdst = cv2.cvtColor(edges, cv2.COLOR_GRAY2BGR)\n",
    "cdstP_green = np.copy(cdst)\n",
    "\n",
    "img_edge = np.zeros_like(img, np.uint8)\n",
    "\n",
    "linesP = cv2.HoughLinesP(edges, rho=0.8, theta=(np.pi / 180), threshold=60,minLineLength=10, maxLineGap=20)\n",
    "  \n",
    "linesP\n",
    "if linesP is not None:\n",
    "    for i in range(0, len(linesP)):\n",
    "        l = linesP[i][0]\n",
    "        cv2.line(img_edge, (l[0], l[1]), (l[2], l[3]), (0,0,255), 3, cv2.LINE_AA)\n",
    "\n",
    "plt.imshow(img_edge)        "
   ]
  },
  {
   "cell_type": "code",
   "execution_count": null,
   "metadata": {},
   "outputs": [],
   "source": [
    "def distance_to_line(point, line):\n",
    "    \"\"\"Get distance between point and line\n",
    "    https://stackoverflow.com/questions/40970478/python-3-5-2-distance-from-a-point-to-a-line\n",
    "    \"\"\"\n",
    "    px, py = point\n",
    "    x1, y1, x2, y2 = line\n",
    "    x_diff = x2 - x1\n",
    "    y_diff = y2 - y1\n",
    "    num = abs(y_diff * px - x_diff * py + x2 * y1 - y2 * x1)\n",
    "    den = math.sqrt(y_diff**2 + x_diff**2)\n",
    "    return num / den\n",
    "\n",
    "def get_distance(a_line, b_line):\n",
    "    \"\"\"Get all possible distances between each dot of two lines and second line\n",
    "    return the shortest\n",
    "    \"\"\"\n",
    "    dist1 = distance_to_line(a_line[:2], b_line)\n",
    "    dist2 = distance_to_line(a_line[2:], b_line)\n",
    "    dist3 = distance_to_line(b_line[:2], a_line)\n",
    "    dist4 = distance_to_line(b_line[2:], a_line)\n",
    "\n",
    "    return min(dist1, dist2, dist3, dist4)"
   ]
  },
  {
   "cell_type": "code",
   "execution_count": null,
   "metadata": {},
   "outputs": [],
   "source": [
    "new_linesP = linesP\n",
    "to_delete = []\n",
    "for i in range(len(linesP)):\n",
    "    l = linesP[i][0]\n",
    "    for j in range(len(linesP)):\n",
    "        if j != i:  \n",
    "            d = get_distance(l, linesP[j][0])\n",
    "            if(d < 100):\n",
    "                to_delete.append(j)"
   ]
  },
  {
   "cell_type": "code",
   "execution_count": null,
   "metadata": {},
   "outputs": [],
   "source": [
    "len(to_delete)"
   ]
  },
  {
   "cell_type": "code",
   "execution_count": null,
   "metadata": {},
   "outputs": [],
   "source": [
    "#Novos valores!!!!!!!!!!!!!!!!!!!!!!!!!!!!!!!!!!!!!!1\n",
    "# Copy edges to the images that will display the results in BGR\n",
    "cdst = cv2.cvtColor(edges, cv2.COLOR_GRAY2BGR)\n",
    "cdstP_green = np.copy(cdst)\n",
    "\n",
    "img_edge = np.zeros_like(img, np.uint8)\n",
    "\n",
    "# linesP = cv2.HoughLinesP(edges, 0.8, 1*np.pi / 180, 60, None, 100, 80)\n",
    "linesP = cv2.HoughLinesP(edges, rho=0.8, theta=(np.pi / 180), threshold=60, minLineLength=100, maxLineGap=80)\n",
    "    \n",
    "if linesP is not None:\n",
    "    for i in range(0, len(linesP)):\n",
    "        l = linesP[i][0]\n",
    "        cv2.line(img_edge, (l[0], l[1]), (l[2], l[3]), (0,0,255), 3, cv2.LINE_AA)\n",
    "\n",
    "plt.imshow(img_edge)       "
   ]
  },
  {
   "cell_type": "markdown",
   "metadata": {},
   "source": [
    "# https://stackoverflow.com/questions/45531074/how-to-merge-lines-after-houghlinesp implementation"
   ]
  },
  {
   "cell_type": "code",
   "execution_count": null,
   "metadata": {},
   "outputs": [],
   "source": [
    "class HoughBundler:\n",
    "    '''Clasterize and merge each cluster of cv2.HoughLinesP() output\n",
    "    a = HoughBundler()\n",
    "    foo = a.process_lines(houghP_lines, binary_image)\n",
    "    '''\n",
    "\n",
    "    def get_orientation(self, line):\n",
    "        '''get orientation of a line, using its length\n",
    "        https://en.wikipedia.org/wiki/Atan2\n",
    "        '''\n",
    "        orientation = math.atan2(abs((line[0] - line[2])), abs((line[1] - line[3])))\n",
    "        return math.degrees(orientation)\n",
    "\n",
    "    def checker(self, line_new, groups, min_distance_to_merge, min_angle_to_merge):\n",
    "        '''Check if line have enough distance and angle to be count as similar\n",
    "        '''\n",
    "        for group in groups:\n",
    "            # walk through existing line groups\n",
    "            for line_old in group:\n",
    "                # check distance\n",
    "                if self.get_distance(line_old, line_new) < min_distance_to_merge:\n",
    "                    # check the angle between lines\n",
    "                    orientation_new = self.get_orientation(line_new)\n",
    "                    orientation_old = self.get_orientation(line_old)\n",
    "                    # if all is ok -- line is similar to others in group\n",
    "                    if abs(orientation_new - orientation_old) < min_angle_to_merge:\n",
    "                        group.append(line_new)\n",
    "                        return False\n",
    "        # if it is totally different line\n",
    "        return True\n",
    "\n",
    "    def DistancePointLine(self, point, line):\n",
    "        \"\"\"Get distance between point and line\n",
    "        http://local.wasp.uwa.edu.au/~pbourke/geometry/pointline/source.vba\n",
    "        \"\"\"\n",
    "        px, py = point\n",
    "        x1, y1, x2, y2 = line\n",
    "\n",
    "        def lineMagnitude(x1, y1, x2, y2):\n",
    "            'Get line (aka vector) length'\n",
    "            lineMagnitude = math.sqrt(math.pow((x2 - x1), 2) + math.pow((y2 - y1), 2))\n",
    "            return lineMagnitude\n",
    "\n",
    "        LineMag = lineMagnitude(x1, y1, x2, y2)\n",
    "        if LineMag < 0.00000001:\n",
    "            DistancePointLine = 9999\n",
    "            return DistancePointLine\n",
    "\n",
    "        u1 = (((px - x1) * (x2 - x1)) + ((py - y1) * (y2 - y1)))\n",
    "        u = u1 / (LineMag * LineMag)\n",
    "\n",
    "        if (u < 0.00001) or (u > 1):\n",
    "            #// closest point does not fall within the line segment, take the shorter distance\n",
    "            #// to an endpoint\n",
    "            ix = lineMagnitude(px, py, x1, y1)\n",
    "            iy = lineMagnitude(px, py, x2, y2)\n",
    "            if ix > iy:\n",
    "                DistancePointLine = iy\n",
    "            else:\n",
    "                DistancePointLine = ix\n",
    "        else:\n",
    "            # Intersecting point is on the line, use the formula\n",
    "            ix = x1 + u * (x2 - x1)\n",
    "            iy = y1 + u * (y2 - y1)\n",
    "            DistancePointLine = lineMagnitude(px, py, ix, iy)\n",
    "\n",
    "        return DistancePointLine\n",
    "\n",
    "    def get_distance(self, a_line, b_line):\n",
    "        \"\"\"Get all possible distances between each dot of two lines and second line\n",
    "        return the shortest\n",
    "        \"\"\"\n",
    "        dist1 = self.DistancePointLine(a_line[:2], b_line)\n",
    "        dist2 = self.DistancePointLine(a_line[2:], b_line)\n",
    "        dist3 = self.DistancePointLine(b_line[:2], a_line)\n",
    "        dist4 = self.DistancePointLine(b_line[2:], a_line)\n",
    "\n",
    "        return min(dist1, dist2, dist3, dist4)\n",
    "\n",
    "    def merge_lines_pipeline_2(self, lines):\n",
    "        'Clusterize (group) lines'\n",
    "        groups = []  # all lines groups are here\n",
    "        # Parameters to play with\n",
    "        min_distance_to_merge = 30\n",
    "        min_angle_to_merge = 30\n",
    "        # first line will create new group every time\n",
    "        groups.append([lines[0]])\n",
    "        # if line is different from existing gropus, create a new group\n",
    "        for line_new in lines[1:]:\n",
    "            if self.checker(line_new, groups, min_distance_to_merge, min_angle_to_merge):\n",
    "                groups.append([line_new])\n",
    "\n",
    "        return groups\n",
    "\n",
    "    def merge_lines_segments1(self, lines):\n",
    "        \"\"\"Sort lines cluster and return first and last coordinates\n",
    "        \"\"\"\n",
    "        orientation = self.get_orientation(lines[0])\n",
    "\n",
    "        # special case\n",
    "        if(len(lines) == 1):\n",
    "            return [lines[0][:2], lines[0][2:]]\n",
    "\n",
    "        # [[1,2,3,4],[]] to [[1,2],[3,4],[],[]]\n",
    "        points = []\n",
    "        for line in lines:\n",
    "            points.append(line[:2])\n",
    "            points.append(line[2:])\n",
    "        # if vertical\n",
    "        if 45 < orientation < 135:\n",
    "            #sort by y\n",
    "            points = sorted(points, key=lambda point: point[1])\n",
    "        else:\n",
    "            #sort by x\n",
    "            points = sorted(points, key=lambda point: point[0])\n",
    "\n",
    "        # return first and last point in sorted group\n",
    "        # [[x,y],[x,y]]\n",
    "        return [points[0], points[-1]]\n",
    "\n",
    "    def process_lines(self, lines, img):\n",
    "        '''Main function for lines from cv.HoughLinesP() output merging\n",
    "        for OpenCV 3\n",
    "        lines -- cv.HoughLinesP() output\n",
    "        img -- binary image\n",
    "        '''\n",
    "        lines_x = []\n",
    "        lines_y = []\n",
    "        # for every line of cv2.HoughLinesP()\n",
    "        for line_i in [l[0] for l in lines]:\n",
    "                orientation = self.get_orientation(line_i)\n",
    "                # if vertical\n",
    "                if 45 < orientation < 135:\n",
    "                    lines_y.append(line_i)\n",
    "                else:\n",
    "                    lines_x.append(line_i)\n",
    "\n",
    "        lines_y = sorted(lines_y, key=lambda line: line[1])\n",
    "        lines_x = sorted(lines_x, key=lambda line: line[0])\n",
    "        merged_lines_all = []\n",
    "\n",
    "        # for each cluster in vertical and horizantal lines leave only one line\n",
    "        for i in [lines_x, lines_y]:\n",
    "                if len(i) > 0:\n",
    "                    groups = self.merge_lines_pipeline_2(i)\n",
    "                    merged_lines = []\n",
    "                    for group in groups:\n",
    "                        merged_lines.append(self.merge_lines_segments1(group))\n",
    "\n",
    "                    merged_lines_all.extend(merged_lines)\n",
    "\n",
    "        return merged_lines_all"
   ]
  },
  {
   "cell_type": "code",
   "execution_count": null,
   "metadata": {},
   "outputs": [],
   "source": [
    "test = HoughBundler()"
   ]
  },
  {
   "cell_type": "code",
   "execution_count": null,
   "metadata": {},
   "outputs": [],
   "source": [
    "new_lines = test.process_lines(lines=linesP, img=img_edge)"
   ]
  },
  {
   "cell_type": "code",
   "execution_count": null,
   "metadata": {},
   "outputs": [],
   "source": [
    "for i in range(0, len(new_lines)):\n",
    "    l = new_lines[i]\n",
    "    cv2.line(img_edge, (l[0][0], l[0][1]), (l[1][0], l[1][1]), (0,0,255), 3, cv2.LINE_AA)\n",
    "\n",
    "plt.imshow(img_edge)    "
   ]
  },
  {
   "cell_type": "code",
   "execution_count": null,
   "metadata": {},
   "outputs": [],
   "source": []
  },
  {
   "cell_type": "code",
   "execution_count": null,
   "metadata": {},
   "outputs": [],
   "source": []
  },
  {
   "cell_type": "markdown",
   "metadata": {},
   "source": [
    "# Homografia"
   ]
  },
  {
   "cell_type": "code",
   "execution_count": 56,
   "metadata": {},
   "outputs": [],
   "source": [
    "campo_vertical = [0, 18.30, 29.30, 47.62, 58.62, 76.92]"
   ]
  },
  {
   "cell_type": "code",
   "execution_count": 57,
   "metadata": {},
   "outputs": [],
   "source": [
    "campo_verticalp = [(1080/76.92)*float(x) for x in campo_vertical]"
   ]
  },
  {
   "cell_type": "code",
   "execution_count": 58,
   "metadata": {},
   "outputs": [
    {
     "data": {
      "text/plain": [
       "[0.0,\n",
       " 256.9422776911076,\n",
       " 411.38845553822154,\n",
       " 668.6115444617784,\n",
       " 823.0577223088923,\n",
       " 1080.0]"
      ]
     },
     "execution_count": 58,
     "metadata": {},
     "output_type": "execute_result"
    }
   ],
   "source": [
    "campo_verticalp"
   ]
  },
  {
   "cell_type": "code",
   "execution_count": 59,
   "metadata": {},
   "outputs": [],
   "source": [
    "campo_horizontal = [45, 73.5, 84.5, 90]"
   ]
  },
  {
   "cell_type": "code",
   "execution_count": 60,
   "metadata": {},
   "outputs": [],
   "source": [
    "campo_horizontalp = [(1920/90)*float(x) for x in campo_horizontal]"
   ]
  },
  {
   "cell_type": "code",
   "execution_count": 61,
   "metadata": {},
   "outputs": [
    {
     "data": {
      "text/plain": [
       "[960.0, 1568.0, 1802.6666666666665, 1920.0]"
      ]
     },
     "execution_count": 61,
     "metadata": {},
     "output_type": "execute_result"
    }
   ],
   "source": [
    "campo_horizontalp"
   ]
  },
  {
   "cell_type": "code",
   "execution_count": 62,
   "metadata": {},
   "outputs": [],
   "source": [
    "# Item 1\n",
    "orig = np.array([\n",
    "        (423, 230),\n",
    "        (1620, 242),\n",
    "        (1235, 285),\n",
    "        (1688, 295),\n",
    "        (1598, 349),\n",
    "        (1772, 353),\n",
    "        (1745, 505),\n",
    "        (1243, 650)\n",
    "    # Coloque os pontos aqui\n",
    "])"
   ]
  },
  {
   "cell_type": "code",
   "execution_count": 63,
   "metadata": {},
   "outputs": [],
   "source": [
    "dest = np.array(\n",
    "        [(960, 0),\n",
    "        (1920, 0),\n",
    "        (1568, 256),\n",
    "        (1920, 256),\n",
    "        (1802, 411),\n",
    "        (1920, 411),\n",
    "        (1802, 668),\n",
    "        #1920, 668,\n",
    "        (1568, 823),\n",
    "        #1920, 823,\n",
    "         #960, 1080, \n",
    "        #1920, 1080\n",
    "])"
   ]
  },
  {
   "cell_type": "code",
   "execution_count": 64,
   "metadata": {
    "scrolled": true
   },
   "outputs": [
    {
     "data": {
      "text/plain": [
       "True"
      ]
     },
     "execution_count": 64,
     "metadata": {},
     "output_type": "execute_result"
    }
   ],
   "source": [
    "len(orig) == len(dest)"
   ]
  },
  {
   "cell_type": "code",
   "execution_count": 86,
   "metadata": {},
   "outputs": [
    {
     "data": {
      "text/plain": [
       "array([[ 1.70589848e+00, -1.09253079e+00, -1.13663791e+03],\n",
       "       [ 5.69111951e-02,  5.03994963e-02,  2.05138978e+02],\n",
       "       [ 1.70232677e-04, -9.16000369e-04,  1.00000000e+00]])"
      ]
     },
     "execution_count": 86,
     "metadata": {},
     "output_type": "execute_result"
    }
   ],
   "source": [
    "orig_array = np.float32(orig[:, np.newaxis, :])\n",
    "dest_array = np.float32(dest[:, np.newaxis, :])\n",
    "Hocv, nsei = cv2.findHomography(dest_array, orig_array) \n",
    "# Hocv = Hocv.reshape(-1,1)\n",
    "Hocv"
   ]
  },
  {
   "cell_type": "code",
   "execution_count": 175,
   "metadata": {},
   "outputs": [],
   "source": [
    "# Item 5\n",
    "# Crie a imagem final aqui\n",
    "res = np.zeros((1080,1920, 3), dtype=np.uint8)\n",
    "Hocv = Hocv.reshape(3,3)\n",
    "\n",
    "for x in range(res.shape[1]):\n",
    "    for y in range(res.shape[0]):\n",
    "        porig = np.array([x,y,1])\n",
    "        pdest = np.dot(Hocv, porig)\n",
    "        pfinal = [(pdest[0]/pdest[2]), (pdest[1]/pdest[2])]\n",
    "        \n",
    "        xdest = int(pfinal[0])\n",
    "        ydest = int(pfinal[1])\n",
    "#         print(x, y)\n",
    "#         print(ydest, xdest)\n",
    "        if((0<=xdest<1920) and (0<=ydest<1080)):\n",
    "#         if(xdest> 0 and ydest>0):\n",
    "#             print(res[y][x])\n",
    "            res[y][x] = img[ydest][xdest]\n",
    "        else:\n",
    "            res[y][x] = [255,255,255]\n",
    "        "
   ]
  },
  {
   "cell_type": "code",
   "execution_count": 191,
   "metadata": {},
   "outputs": [],
   "source": [
    "res_c = res.copy()"
   ]
  },
  {
   "cell_type": "code",
   "execution_count": 192,
   "metadata": {},
   "outputs": [],
   "source": [
    "imped = [(1578, 0), (1578, 1080)]"
   ]
  },
  {
   "cell_type": "code",
   "execution_count": 193,
   "metadata": {},
   "outputs": [],
   "source": [
    "res_c=cv2.line(res_c, (imped[0][0], imped[0][1]), (imped[1][0], imped[1][1]), (255,0,0), 3, cv2.LINE_AA)"
   ]
  },
  {
   "cell_type": "code",
   "execution_count": 194,
   "metadata": {},
   "outputs": [],
   "source": [
    "bola = [(1502, 940), (1920, 539)]"
   ]
  },
  {
   "cell_type": "code",
   "execution_count": 195,
   "metadata": {},
   "outputs": [],
   "source": [
    "res_c=cv2.line(res_c, (bola[0][0], bola[0][1]), (bola[1][0], bola[1][1]), (0,0,255), 3, cv2.LINE_AA)"
   ]
  },
  {
   "cell_type": "code",
   "execution_count": 196,
   "metadata": {},
   "outputs": [],
   "source": [
    "dist_bola_campo = math.sqrt( ((bola[0][0]-bola[1][0])**2)+((bola[0][1]-bola[1][1])**2) )\n",
    "dist_bola_campo = \"{0:.3g}\".format((90/1920)*dist_bola_campo)"
   ]
  },
  {
   "cell_type": "code",
   "execution_count": 197,
   "metadata": {},
   "outputs": [],
   "source": [
    "font = cv2.FONT_HERSHEY_SIMPLEX\n",
    "res_c=cv2.putText(res_c, str(dist_bola_campo + 'm'), (10,450), font, 3, (0, 0, 255), 5, cv2.LINE_AA)"
   ]
  },
  {
   "cell_type": "code",
   "execution_count": 198,
   "metadata": {},
   "outputs": [
    {
     "data": {
      "text/plain": [
       "<matplotlib.image.AxesImage at 0x15cbed090>"
      ]
     },
     "execution_count": 198,
     "metadata": {},
     "output_type": "execute_result"
    }
   ],
   "source": [
    "raio_bola = 195.2\n",
    "res_c=cv2.circle(res_c,bola[0], int(raio_bola), (0,0,255), 0)\n",
    "plt.imshow(res_c)"
   ]
  },
  {
   "cell_type": "code",
   "execution_count": null,
   "metadata": {},
   "outputs": [],
   "source": []
  }
 ],
 "metadata": {
  "kernelspec": {
   "display_name": "Python 3",
   "language": "python",
   "name": "python3"
  },
  "language_info": {
   "codemirror_mode": {
    "name": "ipython",
    "version": 3
   },
   "file_extension": ".py",
   "mimetype": "text/x-python",
   "name": "python",
   "nbconvert_exporter": "python",
   "pygments_lexer": "ipython3",
   "version": "3.7.5"
  }
 },
 "nbformat": 4,
 "nbformat_minor": 2
}
