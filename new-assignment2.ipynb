{
 "cells": [
  {
   "cell_type": "code",
   "execution_count": 1,
   "metadata": {},
   "outputs": [],
   "source": [
    "%reset -f\n",
    "%matplotlib qt\n",
    "\n",
    "import cv2\n",
    "import numpy as np\n",
    "import matplotlib.pyplot as plt\n",
    "import math"
   ]
  },
  {
   "cell_type": "code",
   "execution_count": 2,
   "metadata": {},
   "outputs": [
    {
     "data": {
      "text/plain": [
       "<matplotlib.image.AxesImage at 0x7fc2b805cbe0>"
      ]
     },
     "execution_count": 2,
     "metadata": {},
     "output_type": "execute_result"
    }
   ],
   "source": [
    "# Carregando a imagem de teste\n",
    "img = plt.imread('imgs/img5.jpeg')\n",
    "\n",
    "## convertendo RGB para HSV\n",
    "hsv = cv2.cvtColor(img, cv2.COLOR_BGR2HSV)\n",
    "\n",
    "##mascara verde\n",
    "mask = cv2.inRange(hsv, (36, 25, 25), (86, 255,160))\n",
    "\n",
    "##Separando a cor verde da imagem\n",
    "imask = mask>0\n",
    "green = np.zeros_like(img, np.uint8)\n",
    "green[imask] = img[imask]\n",
    "\n",
    "#deixando a parte verde branca\n",
    "h,w,_ = green.shape\n",
    "for e in range(h):\n",
    "    for i in range(w):\n",
    "        if green[e][i][0]>0 and green[e][i][1]>0 and green[e][i][1]>0:\n",
    "            green[e][i]=[255, 255, 255]\n",
    "            \n",
    "plt.imshow(green)"
   ]
  },
  {
   "cell_type": "code",
   "execution_count": 109,
   "metadata": {},
   "outputs": [],
   "source": [
    "#erosão e dilatação para remover ruidos\n",
    "kernel = np.ones((5,5),np.uint8)\n",
    "erosion = cv2.erode(green,kernel,iterations = 4)\n",
    "dilation = cv2.dilate(erosion,kernel,iterations = 4)\n",
    "plt.imshow(dilation)\n",
    "plt.show()"
   ]
  },
  {
   "cell_type": "code",
   "execution_count": 4,
   "metadata": {},
   "outputs": [],
   "source": [
    "#adicionando blur na imagem\n",
    "# kernel2 = np.ones((5,5),np.float32)/25\n",
    "# blur = cv2.bilateralFilter(dilation, 9, 75, 75)\n",
    "# filter2d\n",
    "\n",
    "# plt.imshow(np.uint32(blur))\n",
    "# plt.show()"
   ]
  },
  {
   "cell_type": "code",
   "execution_count": 110,
   "metadata": {},
   "outputs": [],
   "source": [
    "#adicionando blur na imagem usando gaussian blur\n",
    "img_blur = cv2.GaussianBlur(dilation,(11,11),cv2.BORDER_DEFAULT)\n",
    "plt.imshow(img_blur)\n",
    "plt.show()"
   ]
  },
  {
   "cell_type": "code",
   "execution_count": 113,
   "metadata": {},
   "outputs": [
    {
     "ename": "error",
     "evalue": "OpenCV(4.1.2) /io/opencv/modules/imgproc/src/canny.cpp:846: error: (-206:Bad flag (parameter or structure field)) Aperture size should be odd between 3 and 7 in function 'Canny'\n",
     "output_type": "error",
     "traceback": [
      "\u001b[0;31m---------------------------------------------------------------------------\u001b[0m",
      "\u001b[0;31merror\u001b[0m                                     Traceback (most recent call last)",
      "\u001b[0;32m<ipython-input-113-9daf2c35a8f6>\u001b[0m in \u001b[0;36m<module>\u001b[0;34m()\u001b[0m\n\u001b[1;32m      1\u001b[0m \u001b[0;31m# Canny para detecção de bordas\u001b[0m\u001b[0;34m\u001b[0m\u001b[0;34m\u001b[0m\u001b[0;34m\u001b[0m\u001b[0m\n\u001b[0;32m----> 2\u001b[0;31m \u001b[0medges\u001b[0m \u001b[0;34m=\u001b[0m \u001b[0mcv2\u001b[0m\u001b[0;34m.\u001b[0m\u001b[0mCanny\u001b[0m\u001b[0;34m(\u001b[0m\u001b[0mimg_blur\u001b[0m\u001b[0;34m,\u001b[0m \u001b[0;36m60\u001b[0m\u001b[0;34m,\u001b[0m \u001b[0;36m120\u001b[0m\u001b[0;34m,\u001b[0m\u001b[0mapertureSize\u001b[0m \u001b[0;34m=\u001b[0m \u001b[0;36m15\u001b[0m\u001b[0;34m)\u001b[0m\u001b[0;34m\u001b[0m\u001b[0;34m\u001b[0m\u001b[0m\n\u001b[0m\u001b[1;32m      3\u001b[0m \u001b[0mplt\u001b[0m\u001b[0;34m.\u001b[0m\u001b[0mimshow\u001b[0m\u001b[0;34m(\u001b[0m\u001b[0medges\u001b[0m\u001b[0;34m,\u001b[0m\u001b[0mcmap\u001b[0m \u001b[0;34m=\u001b[0m \u001b[0;34m'gray'\u001b[0m\u001b[0;34m)\u001b[0m\u001b[0;34m\u001b[0m\u001b[0;34m\u001b[0m\u001b[0m\n",
      "\u001b[0;31merror\u001b[0m: OpenCV(4.1.2) /io/opencv/modules/imgproc/src/canny.cpp:846: error: (-206:Bad flag (parameter or structure field)) Aperture size should be odd between 3 and 7 in function 'Canny'\n"
     ]
    }
   ],
   "source": [
    "# Canny para detecção de bordas\n",
    "edges = cv2.Canny(img_blur, 60, 120,apertureSize = 15)\n",
    "plt.imshow(edges,cmap = 'gray')"
   ]
  },
  {
   "cell_type": "code",
   "execution_count": 33,
   "metadata": {},
   "outputs": [
    {
     "name": "stdout",
     "output_type": "stream",
     "text": [
      "170 255\n"
     ]
    }
   ],
   "source": [
    "# compute the median of the single channel pixel intensities\n",
    "sigma=0.33\n",
    "v = np.median(img_blur)\n",
    " \n",
    "# apply automatic Canny edge detection using the computed median\n",
    "lower = int(max(0, (1.0 - sigma) * v))\n",
    "upper = int(min(255, (1.0 + sigma) * v))\n",
    "edged = cv2.Canny(img_blur, lower, upper)\n",
    "plt.imshow(edged,cmap = 'gray')\n",
    "print(lower, upper)"
   ]
  },
  {
   "cell_type": "code",
   "execution_count": 105,
   "metadata": {},
   "outputs": [
    {
     "data": {
      "text/plain": [
       "<matplotlib.image.AxesImage at 0x7fc28a5fdcc0>"
      ]
     },
     "execution_count": 105,
     "metadata": {},
     "output_type": "execute_result"
    }
   ],
   "source": [
    "# Copy edges to the images that will display the results in BGR\n",
    "cdst = cv2.cvtColor(edges, cv2.COLOR_GRAY2BGR)\n",
    "cdstP_green = np.copy(cdst)\n",
    "\n",
    "img_edge = np.zeros_like(img, np.uint8)\n",
    "\n",
    "linesP = cv2.HoughLinesP(edges, 1, np.pi / 180, 50, None, 20, 10)\n",
    "    \n",
    "if linesP is not None:\n",
    "    for i in range(0, len(linesP)):\n",
    "        l = linesP[i][0]\n",
    "        cv2.line(img_edge, (l[0], l[1]), (l[2], l[3]), (0,0,255), 3, cv2.LINE_AA)\n",
    "\n",
    "plt.imshow(img_edge)        "
   ]
  },
  {
   "cell_type": "code",
   "execution_count": 114,
   "metadata": {},
   "outputs": [
    {
     "data": {
      "text/plain": [
       "<matplotlib.image.AxesImage at 0x7fc289804128>"
      ]
     },
     "execution_count": 114,
     "metadata": {},
     "output_type": "execute_result"
    }
   ],
   "source": [
    "#Novos valores!!!!!!!!!!!!!!!!!!!!!!!!!!!!!!!!!!!!!!1\n",
    "# Copy edges to the images that will display the results in BGR\n",
    "cdst = cv2.cvtColor(edges, cv2.COLOR_GRAY2BGR)\n",
    "cdstP_green = np.copy(cdst)\n",
    "\n",
    "img_edge = np.zeros_like(img, np.uint8)\n",
    "\n",
    "linesP = cv2.HoughLinesP(edges, 0.8, 1*np.pi / 180, 60, None, 100, 80)\n",
    "    \n",
    "if linesP is not None:\n",
    "    for i in range(0, len(linesP)):\n",
    "        l = linesP[i][0]\n",
    "        cv2.line(img_edge, (l[0], l[1]), (l[2], l[3]), (0,0,255), 3, cv2.LINE_AA)\n",
    "\n",
    "plt.imshow(img_edge)       "
   ]
  },
  {
   "cell_type": "code",
   "execution_count": null,
   "metadata": {},
   "outputs": [],
   "source": []
  }
 ],
 "metadata": {
  "kernelspec": {
   "display_name": "Python 3",
   "language": "python",
   "name": "python3"
  },
  "language_info": {
   "codemirror_mode": {
    "name": "ipython",
    "version": 3
   },
   "file_extension": ".py",
   "mimetype": "text/x-python",
   "name": "python",
   "nbconvert_exporter": "python",
   "pygments_lexer": "ipython3",
   "version": "3.6.9"
  }
 },
 "nbformat": 4,
 "nbformat_minor": 2
}
