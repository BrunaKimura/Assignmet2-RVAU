{
 "cells": [
  {
   "cell_type": "code",
   "execution_count": 1,
   "metadata": {},
   "outputs": [],
   "source": [
    "%reset -f\n",
    "%matplotlib qt\n",
    "\n",
    "import cv2\n",
    "import numpy as np\n",
    "import matplotlib.pyplot as plt\n",
    "import math"
   ]
  },
  {
   "cell_type": "code",
   "execution_count": 2,
   "metadata": {},
   "outputs": [
    {
     "data": {
      "text/plain": [
       "<matplotlib.image.AxesImage at 0x7fe928039080>"
      ]
     },
     "execution_count": 2,
     "metadata": {},
     "output_type": "execute_result"
    }
   ],
   "source": [
    "# Carregando a imagem de teste\n",
    "img = plt.imread('imgs/img5.jpeg')\n",
    "\n",
    "plt.imshow(img)"
   ]
  },
  {
   "cell_type": "code",
   "execution_count": 3,
   "metadata": {},
   "outputs": [
    {
     "data": {
      "text/plain": [
       "<matplotlib.image.AxesImage at 0x7fe91c5482b0>"
      ]
     },
     "execution_count": 3,
     "metadata": {},
     "output_type": "execute_result"
    }
   ],
   "source": [
    "## convert to hsv\n",
    "hsv = cv2.cvtColor(img, cv2.COLOR_BGR2HSV)\n",
    "plt.imshow(hsv)"
   ]
  },
  {
   "cell_type": "code",
   "execution_count": 4,
   "metadata": {},
   "outputs": [
    {
     "data": {
      "text/plain": [
       "<matplotlib.image.AxesImage at 0x7fe91c54d898>"
      ]
     },
     "execution_count": 4,
     "metadata": {},
     "output_type": "execute_result"
    }
   ],
   "source": [
    "# mask of green (36,25,25) ~ (86, 255,255)\n",
    "mask = cv2.inRange(hsv, (36, 25, 25), (86, 255,160))\n",
    "# mask = cv2.inRange(hsv, (36, 25, 25), (70, 255,255))\n",
    "\n",
    "## slice the green\n",
    "imask = mask>0\n",
    "green = np.zeros_like(img, np.uint8)\n",
    "green[imask] = img[imask]\n",
    "\n",
    "## save \n",
    "# cv2.imwrite(\"green.png\", green)\n",
    "\n",
    "plt.imshow(green)"
   ]
  },
  {
   "cell_type": "code",
   "execution_count": 5,
   "metadata": {},
   "outputs": [],
   "source": [
    "h,w,_ = green.shape\n",
    "for e in range(h):\n",
    "    for i in range(w):\n",
    "        if green[e][i][0]>0 and green[e][i][1]>0 and green[e][i][1]>0:\n",
    "            green[e][i]=[255, 255, 255]"
   ]
  },
  {
   "cell_type": "code",
   "execution_count": 16,
   "metadata": {},
   "outputs": [
    {
     "data": {
      "text/plain": [
       "<matplotlib.image.AxesImage at 0x7fe91621bf60>"
      ]
     },
     "execution_count": 16,
     "metadata": {},
     "output_type": "execute_result"
    }
   ],
   "source": [
    "plt.imshow(green)"
   ]
  },
  {
   "cell_type": "code",
   "execution_count": 17,
   "metadata": {},
   "outputs": [],
   "source": [
    "kernel = np.ones((5,5),np.uint8)\n",
    "erosion = cv2.erode(green,kernel,iterations = 4)\n",
    "dilation = cv2.dilate(erosion,kernel,iterations = 4)\n",
    "plt.imshow(np.uint32(dilation))\n",
    "plt.show()"
   ]
  },
  {
   "cell_type": "code",
   "execution_count": 18,
   "metadata": {},
   "outputs": [],
   "source": [
    "kernel2 = np.ones((5,5),np.float32)/25\n",
    "blur = cv2.bilateralFilter(dilation, 9, 75, 75)\n",
    "\n",
    "plt.imshow(np.uint32(blur))\n",
    "plt.show()"
   ]
  },
  {
   "cell_type": "code",
   "execution_count": 29,
   "metadata": {},
   "outputs": [
    {
     "data": {
      "text/plain": [
       "<matplotlib.image.AxesImage at 0x7fe914246400>"
      ]
     },
     "execution_count": 29,
     "metadata": {},
     "output_type": "execute_result"
    }
   ],
   "source": [
    "# Using the Canny filter with different parameters\n",
    "edges_green = cv2.Canny(blur, 20, 70)\n",
    "plt.imshow(edges_green,cmap = 'gray')\n",
    "\n",
    "# cv2.imshow(\"hough\", edges_green)\n",
    "# cv2.waitKey()"
   ]
  },
  {
   "cell_type": "code",
   "execution_count": 10,
   "metadata": {},
   "outputs": [
    {
     "data": {
      "text/plain": [
       "<matplotlib.image.AxesImage at 0x7fe91c4dbdd8>"
      ]
     },
     "execution_count": 10,
     "metadata": {},
     "output_type": "execute_result"
    }
   ],
   "source": [
    "# Using the Canny filter with different parameters\n",
    "edges_dilation = cv2.Canny(dilation, 50, 200,5)\n",
    "plt.imshow(edges_dilation, cmap = 'gray')\n",
    "# cv2.imshow(\"edge\",edges_dilation)\n",
    "# cv2.waitKey()\n"
   ]
  },
  {
   "cell_type": "code",
   "execution_count": 30,
   "metadata": {},
   "outputs": [
    {
     "data": {
      "text/plain": [
       "<matplotlib.image.AxesImage at 0x7fe9140609b0>"
      ]
     },
     "execution_count": 30,
     "metadata": {},
     "output_type": "execute_result"
    }
   ],
   "source": [
    "# Copy edges to the images that will display the results in BGR\n",
    "cdst = cv2.cvtColor(edges_green, cv2.COLOR_GRAY2BGR)\n",
    "cdstP_green = np.copy(cdst)\n",
    "\n",
    "\n",
    "linesP = cv2.HoughLinesP(edges_green, 1, np.pi / 180, 50, None, 20, 10)\n",
    "    \n",
    "if linesP is not None:\n",
    "    for i in range(0, len(linesP)):\n",
    "        l = linesP[i][0]\n",
    "        cv2.line(cdstP_green, (l[0], l[1]), (l[2], l[3]), (0,0,255), 3, cv2.LINE_AA)\n",
    "\n",
    "plt.imshow(cdstP_green)        "
   ]
  },
  {
   "cell_type": "code",
   "execution_count": 23,
   "metadata": {},
   "outputs": [
    {
     "data": {
      "text/plain": [
       "<matplotlib.image.AxesImage at 0x7fe916007128>"
      ]
     },
     "execution_count": 23,
     "metadata": {},
     "output_type": "execute_result"
    }
   ],
   "source": [
    "# Copy edges to the images that will display the results in BGR\n",
    "cdst = cv2.cvtColor(edges_dilation, cv2.COLOR_GRAY2BGR)\n",
    "cdstP_dilation = np.copy(cdst)\n",
    "\n",
    "\n",
    "linesP = cv2.HoughLinesP(edges_dilation, 1, (5*np.pi) / 180, 50, None, 10, 10)\n",
    "    \n",
    "if linesP is not None:\n",
    "    for i in range(0, len(linesP)):\n",
    "        l = linesP[i][0]\n",
    "        cv2.line(cdstP_dilation, (l[0], l[1]), (l[2], l[3]), (0,0,255), 3, cv2.LINE_AA)\n",
    "            \n",
    "plt.imshow(cdstP_dilation)"
   ]
  },
  {
   "cell_type": "code",
   "execution_count": 13,
   "metadata": {},
   "outputs": [
    {
     "data": {
      "text/plain": [
       "<matplotlib.image.AxesImage at 0x7fe91c498ef0>"
      ]
     },
     "execution_count": 13,
     "metadata": {},
     "output_type": "execute_result"
    }
   ],
   "source": [
    "cdstP_dilation_c = np.copy(cdstP_dilation)\n",
    "\n",
    "gray = cv2.cvtColor(cdstP_dilation_c,cv2.COLOR_BGR2GRAY)\n",
    "\n",
    "gray = np.float32(gray)\n",
    "\n",
    "\n",
    "corner = cv2.cornerHarris(gray,2,3,0.04)\n",
    "\n",
    "# Threshold for an optimal value, it may vary depending on the image.\n",
    "cdstP_dilation_c[corner>0.01*corner.max()]=[255,0,0]\n",
    "\n",
    "plt.imshow(cdstP_dilation_c)"
   ]
  },
  {
   "cell_type": "code",
   "execution_count": null,
   "metadata": {},
   "outputs": [],
   "source": [
    "cdstP_green_c = np.copy(cdstP_green)\n",
    "\n",
    "gray = cv2.cvtColor(cdstP_green_c,cv2.COLOR_BGR2GRAY)\n",
    "\n",
    "gray = np.float32(gray)\n",
    "\n",
    "\n",
    "corner = cv2.cornerHarris(gray,2,3,0.04)\n",
    "\n",
    "# Threshold for an optimal value, it may vary depending on the image.\n",
    "cdstP_green_c[corner>0.01*corner.max()]=[255,0,0]\n",
    "\n",
    "plt.imshow(cdstP_green_c)"
   ]
  },
  {
   "cell_type": "code",
   "execution_count": null,
   "metadata": {},
   "outputs": [],
   "source": [
    "gray = cv2.cvtColor(cdstP_dilation,cv2.COLOR_BGR2GRAY)\n",
    "corners = cv2.goodFeaturesToTrack(gray,50,0.1,10)\n",
    "corners = np.int0(corners)\n",
    "for i in corners:\n",
    "    x,y = i.ravel()\n",
    "    cv2.circle(cdstP_dilation,(x,y),10,255,-1)\n",
    "plt.imshow(cdstP_dilation),plt.show()"
   ]
  },
  {
   "cell_type": "code",
   "execution_count": null,
   "metadata": {},
   "outputs": [],
   "source": []
  }
 ],
 "metadata": {
  "kernelspec": {
   "display_name": "Python 3",
   "language": "python",
   "name": "python3"
  },
  "language_info": {
   "codemirror_mode": {
    "name": "ipython",
    "version": 3
   },
   "file_extension": ".py",
   "mimetype": "text/x-python",
   "name": "python",
   "nbconvert_exporter": "python",
   "pygments_lexer": "ipython3",
   "version": "3.6.9"
  }
 },
 "nbformat": 4,
 "nbformat_minor": 2
}
